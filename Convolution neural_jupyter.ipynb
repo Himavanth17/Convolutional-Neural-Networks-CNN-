{
 "cells": [
  {
   "cell_type": "code",
   "execution_count": 4,
   "metadata": {
    "executionInfo": {
     "elapsed": 8755,
     "status": "ok",
     "timestamp": 1720936551994,
     "user": {
      "displayName": "Himavanth Reddy",
      "userId": "06947603114653209467"
     },
     "user_tz": -330
    },
    "id": "cqz2ManPU5Ux"
   },
   "outputs": [
    {
     "name": "stdout",
     "output_type": "stream",
     "text": [
      "Requirement already satisfied: tensorflow in d:\\anaconda\\envs\\python\\lib\\site-packages (2.17.0)\n",
      "Requirement already satisfied: tensorflow-intel==2.17.0 in d:\\anaconda\\envs\\python\\lib\\site-packages (from tensorflow) (2.17.0)\n",
      "Requirement already satisfied: absl-py>=1.0.0 in d:\\anaconda\\envs\\python\\lib\\site-packages (from tensorflow-intel==2.17.0->tensorflow) (2.1.0)\n",
      "Requirement already satisfied: astunparse>=1.6.0 in d:\\anaconda\\envs\\python\\lib\\site-packages (from tensorflow-intel==2.17.0->tensorflow) (1.6.3)\n",
      "Requirement already satisfied: flatbuffers>=24.3.25 in d:\\anaconda\\envs\\python\\lib\\site-packages (from tensorflow-intel==2.17.0->tensorflow) (24.3.25)\n",
      "Requirement already satisfied: gast!=0.5.0,!=0.5.1,!=0.5.2,>=0.2.1 in d:\\anaconda\\envs\\python\\lib\\site-packages (from tensorflow-intel==2.17.0->tensorflow) (0.6.0)\n",
      "Requirement already satisfied: google-pasta>=0.1.1 in d:\\anaconda\\envs\\python\\lib\\site-packages (from tensorflow-intel==2.17.0->tensorflow) (0.2.0)\n",
      "Requirement already satisfied: h5py>=3.10.0 in d:\\anaconda\\envs\\python\\lib\\site-packages (from tensorflow-intel==2.17.0->tensorflow) (3.11.0)\n",
      "Requirement already satisfied: libclang>=13.0.0 in d:\\anaconda\\envs\\python\\lib\\site-packages (from tensorflow-intel==2.17.0->tensorflow) (18.1.1)\n",
      "Requirement already satisfied: ml-dtypes<0.5.0,>=0.3.1 in d:\\anaconda\\envs\\python\\lib\\site-packages (from tensorflow-intel==2.17.0->tensorflow) (0.4.0)\n",
      "Requirement already satisfied: opt-einsum>=2.3.2 in d:\\anaconda\\envs\\python\\lib\\site-packages (from tensorflow-intel==2.17.0->tensorflow) (3.3.0)\n",
      "Requirement already satisfied: packaging in d:\\anaconda\\envs\\python\\lib\\site-packages (from tensorflow-intel==2.17.0->tensorflow) (23.1)\n",
      "Requirement already satisfied: protobuf!=4.21.0,!=4.21.1,!=4.21.2,!=4.21.3,!=4.21.4,!=4.21.5,<5.0.0dev,>=3.20.3 in d:\\anaconda\\envs\\python\\lib\\site-packages (from tensorflow-intel==2.17.0->tensorflow) (4.25.3)\n",
      "Requirement already satisfied: requests<3,>=2.21.0 in d:\\anaconda\\envs\\python\\lib\\site-packages (from tensorflow-intel==2.17.0->tensorflow) (2.31.0)\n",
      "Requirement already satisfied: setuptools in d:\\anaconda\\envs\\python\\lib\\site-packages (from tensorflow-intel==2.17.0->tensorflow) (68.2.2)\n",
      "Requirement already satisfied: six>=1.12.0 in d:\\anaconda\\envs\\python\\lib\\site-packages (from tensorflow-intel==2.17.0->tensorflow) (1.16.0)\n",
      "Requirement already satisfied: termcolor>=1.1.0 in d:\\anaconda\\envs\\python\\lib\\site-packages (from tensorflow-intel==2.17.0->tensorflow) (2.4.0)\n",
      "Requirement already satisfied: typing-extensions>=3.6.6 in d:\\anaconda\\envs\\python\\lib\\site-packages (from tensorflow-intel==2.17.0->tensorflow) (4.9.0)\n",
      "Requirement already satisfied: wrapt>=1.11.0 in d:\\anaconda\\envs\\python\\lib\\site-packages (from tensorflow-intel==2.17.0->tensorflow) (1.16.0)\n",
      "Requirement already satisfied: grpcio<2.0,>=1.24.3 in d:\\anaconda\\envs\\python\\lib\\site-packages (from tensorflow-intel==2.17.0->tensorflow) (1.64.1)\n",
      "Requirement already satisfied: tensorboard<2.18,>=2.17 in d:\\anaconda\\envs\\python\\lib\\site-packages (from tensorflow-intel==2.17.0->tensorflow) (2.17.0)\n",
      "Requirement already satisfied: keras>=3.2.0 in d:\\anaconda\\envs\\python\\lib\\site-packages (from tensorflow-intel==2.17.0->tensorflow) (3.4.1)\n",
      "Requirement already satisfied: tensorflow-io-gcs-filesystem>=0.23.1 in d:\\anaconda\\envs\\python\\lib\\site-packages (from tensorflow-intel==2.17.0->tensorflow) (0.31.0)\n",
      "Requirement already satisfied: numpy<2.0.0,>=1.23.5 in d:\\anaconda\\envs\\python\\lib\\site-packages (from tensorflow-intel==2.17.0->tensorflow) (1.26.4)\n",
      "Requirement already satisfied: wheel<1.0,>=0.23.0 in d:\\anaconda\\envs\\python\\lib\\site-packages (from astunparse>=1.6.0->tensorflow-intel==2.17.0->tensorflow) (0.41.2)\n",
      "Requirement already satisfied: rich in d:\\anaconda\\envs\\python\\lib\\site-packages (from keras>=3.2.0->tensorflow-intel==2.17.0->tensorflow) (13.7.1)\n",
      "Requirement already satisfied: namex in d:\\anaconda\\envs\\python\\lib\\site-packages (from keras>=3.2.0->tensorflow-intel==2.17.0->tensorflow) (0.0.8)\n",
      "Requirement already satisfied: optree in d:\\anaconda\\envs\\python\\lib\\site-packages (from keras>=3.2.0->tensorflow-intel==2.17.0->tensorflow) (0.12.1)\n",
      "Requirement already satisfied: charset-normalizer<4,>=2 in d:\\anaconda\\envs\\python\\lib\\site-packages (from requests<3,>=2.21.0->tensorflow-intel==2.17.0->tensorflow) (2.0.4)\n",
      "Requirement already satisfied: idna<4,>=2.5 in d:\\anaconda\\envs\\python\\lib\\site-packages (from requests<3,>=2.21.0->tensorflow-intel==2.17.0->tensorflow) (3.4)\n",
      "Requirement already satisfied: urllib3<3,>=1.21.1 in d:\\anaconda\\envs\\python\\lib\\site-packages (from requests<3,>=2.21.0->tensorflow-intel==2.17.0->tensorflow) (1.26.18)\n",
      "Requirement already satisfied: certifi>=2017.4.17 in d:\\anaconda\\envs\\python\\lib\\site-packages (from requests<3,>=2.21.0->tensorflow-intel==2.17.0->tensorflow) (2023.11.17)\n",
      "Requirement already satisfied: markdown>=2.6.8 in d:\\anaconda\\envs\\python\\lib\\site-packages (from tensorboard<2.18,>=2.17->tensorflow-intel==2.17.0->tensorflow) (3.6)\n",
      "Requirement already satisfied: tensorboard-data-server<0.8.0,>=0.7.0 in d:\\anaconda\\envs\\python\\lib\\site-packages (from tensorboard<2.18,>=2.17->tensorflow-intel==2.17.0->tensorflow) (0.7.2)\n",
      "Requirement already satisfied: werkzeug>=1.0.1 in d:\\anaconda\\envs\\python\\lib\\site-packages (from tensorboard<2.18,>=2.17->tensorflow-intel==2.17.0->tensorflow) (3.0.3)\n",
      "Requirement already satisfied: MarkupSafe>=2.1.1 in d:\\anaconda\\envs\\python\\lib\\site-packages (from werkzeug>=1.0.1->tensorboard<2.18,>=2.17->tensorflow-intel==2.17.0->tensorflow) (2.1.3)\n",
      "Requirement already satisfied: markdown-it-py>=2.2.0 in d:\\anaconda\\envs\\python\\lib\\site-packages (from rich->keras>=3.2.0->tensorflow-intel==2.17.0->tensorflow) (3.0.0)\n",
      "Requirement already satisfied: pygments<3.0.0,>=2.13.0 in d:\\anaconda\\envs\\python\\lib\\site-packages (from rich->keras>=3.2.0->tensorflow-intel==2.17.0->tensorflow) (2.15.1)\n",
      "Requirement already satisfied: mdurl~=0.1 in d:\\anaconda\\envs\\python\\lib\\site-packages (from markdown-it-py>=2.2.0->rich->keras>=3.2.0->tensorflow-intel==2.17.0->tensorflow) (0.1.2)\n",
      "Note: you may need to restart the kernel to use updated packages.\n"
     ]
    }
   ],
   "source": [
    "pip install tensorflow"
   ]
  },
  {
   "cell_type": "code",
   "execution_count": 7,
   "metadata": {
    "executionInfo": {
     "elapsed": 8755,
     "status": "ok",
     "timestamp": 1720936551994,
     "user": {
      "displayName": "Himavanth Reddy",
      "userId": "06947603114653209467"
     },
     "user_tz": -330
    },
    "id": "cqz2ManPU5Ux"
   },
   "outputs": [
    {
     "name": "stdout",
     "output_type": "stream",
     "text": [
      "Requirement already satisfied: keras in d:\\anaconda\\envs\\python\\lib\\site-packages (3.4.1)\n",
      "Requirement already satisfied: absl-py in d:\\anaconda\\envs\\python\\lib\\site-packages (from keras) (2.1.0)\n",
      "Requirement already satisfied: numpy in d:\\anaconda\\envs\\python\\lib\\site-packages (from keras) (1.26.4)\n",
      "Requirement already satisfied: rich in d:\\anaconda\\envs\\python\\lib\\site-packages (from keras) (13.7.1)\n",
      "Requirement already satisfied: namex in d:\\anaconda\\envs\\python\\lib\\site-packages (from keras) (0.0.8)\n",
      "Requirement already satisfied: h5py in d:\\anaconda\\envs\\python\\lib\\site-packages (from keras) (3.11.0)\n",
      "Requirement already satisfied: optree in d:\\anaconda\\envs\\python\\lib\\site-packages (from keras) (0.12.1)\n",
      "Requirement already satisfied: ml-dtypes in d:\\anaconda\\envs\\python\\lib\\site-packages (from keras) (0.4.0)\n",
      "Requirement already satisfied: packaging in d:\\anaconda\\envs\\python\\lib\\site-packages (from keras) (23.1)\n",
      "Requirement already satisfied: typing-extensions>=4.5.0 in d:\\anaconda\\envs\\python\\lib\\site-packages (from optree->keras) (4.9.0)\n",
      "Requirement already satisfied: markdown-it-py>=2.2.0 in d:\\anaconda\\envs\\python\\lib\\site-packages (from rich->keras) (3.0.0)\n",
      "Requirement already satisfied: pygments<3.0.0,>=2.13.0 in d:\\anaconda\\envs\\python\\lib\\site-packages (from rich->keras) (2.15.1)\n",
      "Requirement already satisfied: mdurl~=0.1 in d:\\anaconda\\envs\\python\\lib\\site-packages (from markdown-it-py>=2.2.0->rich->keras) (0.1.2)\n",
      "Note: you may need to restart the kernel to use updated packages.\n"
     ]
    }
   ],
   "source": [
    "pip install keras"
   ]
  },
  {
   "cell_type": "code",
   "execution_count": 1,
   "metadata": {
    "executionInfo": {
     "elapsed": 8755,
     "status": "ok",
     "timestamp": 1720936551994,
     "user": {
      "displayName": "Himavanth Reddy",
      "userId": "06947603114653209467"
     },
     "user_tz": -330
    },
    "id": "cqz2ManPU5Ux"
   },
   "outputs": [],
   "source": [
    "import tensorflow as tf\n",
    "from keras.src.legacy.preprocessing.image import ImageDataGenerator"
   ]
  },
  {
   "cell_type": "markdown",
   "metadata": {
    "id": "o4V1JAXx0VlF"
   },
   "source": [
    "Data Processing"
   ]
  },
  {
   "cell_type": "code",
   "execution_count": 2,
   "metadata": {
    "id": "6c0m9Tmqz5TX"
   },
   "outputs": [
    {
     "name": "stdout",
     "output_type": "stream",
     "text": [
      "Found 8000 images belonging to 2 classes.\n"
     ]
    }
   ],
   "source": [
    "train_datagen = ImageDataGenerator(rescale = 1./255,\n",
    "                                   shear_range = 0.2,\n",
    "                                   zoom_range = 0.2,\n",
    "                                   horizontal_flip = True)\n",
    "\n",
    "training_set = train_datagen.flow_from_directory('dataset/training_set',\n",
    "                                                 target_size = (64, 64),\n",
    "                                                 batch_size = 32,\n",
    "                                                 class_mode = 'binary')\n"
   ]
  },
  {
   "cell_type": "markdown",
   "metadata": {
    "id": "u-TBb_u122JR"
   },
   "source": [
    "Preprocessing the test set"
   ]
  },
  {
   "cell_type": "code",
   "execution_count": 3,
   "metadata": {
    "id": "GiD-9t0812Iz"
   },
   "outputs": [
    {
     "name": "stdout",
     "output_type": "stream",
     "text": [
      "Found 2000 images belonging to 2 classes.\n"
     ]
    }
   ],
   "source": [
    "test_datagen = ImageDataGenerator(rescale = 1./255)\n",
    "test_set= test_datagen.flow_from_directory('dataset/test_set',\n",
    "                                            target_size = (64, 64),\n",
    "                                            batch_size = 32,\n",
    "                                            class_mode = 'binary')"
   ]
  },
  {
   "cell_type": "markdown",
   "metadata": {
    "id": "GoKRbf8c72hl"
   },
   "source": [
    "Building the CNN"
   ]
  },
  {
   "cell_type": "code",
   "execution_count": 4,
   "metadata": {
    "id": "G5s1xW1I12Fb"
   },
   "outputs": [],
   "source": [
    "cnn = tf.keras.models.Sequential()"
   ]
  },
  {
   "cell_type": "markdown",
   "metadata": {
    "id": "Zzw_MEDa770w"
   },
   "source": [
    "Convolution"
   ]
  },
  {
   "cell_type": "code",
   "execution_count": 5,
   "metadata": {
    "id": "JqhZv1VS12CA"
   },
   "outputs": [
    {
     "name": "stderr",
     "output_type": "stream",
     "text": [
      "D:\\Anaconda\\envs\\python\\lib\\site-packages\\keras\\src\\layers\\convolutional\\base_conv.py:107: UserWarning: Do not pass an `input_shape`/`input_dim` argument to a layer. When using Sequential models, prefer using an `Input(shape)` object as the first layer in the model instead.\n",
      "  super().__init__(activity_regularizer=activity_regularizer, **kwargs)\n"
     ]
    }
   ],
   "source": [
    "cnn.add(tf.keras.layers.Conv2D(filters=32, kernel_size=3, activation='relu', input_shape=[64, 64, 3]))"
   ]
  },
  {
   "cell_type": "markdown",
   "metadata": {
    "id": "2gDWJDbM9DaG"
   },
   "source": [
    "Pooling"
   ]
  },
  {
   "cell_type": "code",
   "execution_count": 6,
   "metadata": {
    "id": "Xxdp6axg11-i"
   },
   "outputs": [],
   "source": [
    "cnn.add(tf.keras.layers.MaxPool2D(pool_size=2, strides=2))"
   ]
  },
  {
   "cell_type": "markdown",
   "metadata": {
    "id": "4aRkUHH5-HGB"
   },
   "source": [
    "Second convolutional layer"
   ]
  },
  {
   "cell_type": "code",
   "execution_count": 7,
   "metadata": {
    "id": "JKmoBXcy118L"
   },
   "outputs": [],
   "source": [
    "cnn.add(tf.keras.layers.Conv2D(filters=32, kernel_size=3, activation='relu', input_shape=[64, 64, 3]))\n",
    "cnn.add(tf.keras.layers.MaxPool2D(pool_size=2, strides=2))"
   ]
  },
  {
   "cell_type": "markdown",
   "metadata": {
    "id": "n_4K2kVh-QbC"
   },
   "source": [
    "Flattening"
   ]
  },
  {
   "cell_type": "code",
   "execution_count": 8,
   "metadata": {
    "id": "gjLaVyKx116p"
   },
   "outputs": [],
   "source": [
    "cnn.add(tf.keras.layers.Flatten())"
   ]
  },
  {
   "cell_type": "markdown",
   "metadata": {
    "id": "qmd-iG7f-iM9"
   },
   "source": [
    "full connection"
   ]
  },
  {
   "cell_type": "code",
   "execution_count": 9,
   "metadata": {
    "id": "hkf9VAo-1149"
   },
   "outputs": [],
   "source": [
    "cnn.add(tf.keras.layers.Dense(units=128, activation='relu'))"
   ]
  },
  {
   "cell_type": "code",
   "execution_count": 10,
   "metadata": {
    "id": "QSgXlhbc113U"
   },
   "outputs": [],
   "source": [
    "cnn.add(tf.keras.layers.Dense(units=1, activation='sigmoid'))"
   ]
  },
  {
   "cell_type": "markdown",
   "metadata": {
    "id": "Iijjwcal_zv2"
   },
   "source": [
    "compiling the CNN"
   ]
  },
  {
   "cell_type": "code",
   "execution_count": 11,
   "metadata": {
    "id": "9NzbXj1T1107"
   },
   "outputs": [],
   "source": [
    "cnn.compile(optimizer='adam',loss='binary_crossentropy',metrics=['accuracy'])"
   ]
  },
  {
   "cell_type": "markdown",
   "metadata": {
    "id": "RkIDx_cSABl0"
   },
   "source": [
    "Training the cnn"
   ]
  },
  {
   "cell_type": "code",
   "execution_count": 12,
   "metadata": {
    "id": "0wucBUF-11zI"
   },
   "outputs": [
    {
     "name": "stdout",
     "output_type": "stream",
     "text": [
      "Requirement already satisfied: pillow in d:\\anaconda\\envs\\python\\lib\\site-packages (10.4.0)\n",
      "Note: you may need to restart the kernel to use updated packages.\n"
     ]
    }
   ],
   "source": [
    "pip install pillow\n"
   ]
  },
  {
   "cell_type": "code",
   "execution_count": 15,
   "metadata": {
    "id": "0wucBUF-11zI"
   },
   "outputs": [
    {
     "name": "stdout",
     "output_type": "stream",
     "text": [
      "Collecting scipy\n",
      "  Downloading scipy-1.14.0-cp310-cp310-win_amd64.whl.metadata (60 kB)\n",
      "     ---------------------------------------- 0.0/60.8 kB ? eta -:--:--\n",
      "     ------------ ------------------------- 20.5/60.8 kB 330.3 kB/s eta 0:00:01\n",
      "     -------------------------------- ----- 51.2/60.8 kB 435.7 kB/s eta 0:00:01\n",
      "     -------------------------------------- 60.8/60.8 kB 463.5 kB/s eta 0:00:00\n",
      "Requirement already satisfied: numpy<2.3,>=1.23.5 in d:\\anaconda\\envs\\python\\lib\\site-packages (from scipy) (1.26.4)\n",
      "Downloading scipy-1.14.0-cp310-cp310-win_amd64.whl (44.8 MB)\n",
      "   ---------------------------------------- 0.0/44.8 MB ? eta -:--:--\n",
      "   ---------------------------------------- 0.3/44.8 MB 5.9 MB/s eta 0:00:08\n",
      "   ---------------------------------------- 0.6/44.8 MB 5.8 MB/s eta 0:00:08\n",
      "    --------------------------------------- 0.9/44.8 MB 7.0 MB/s eta 0:00:07\n",
      "   - -------------------------------------- 1.2/44.8 MB 6.2 MB/s eta 0:00:08\n",
      "   - -------------------------------------- 1.6/44.8 MB 7.5 MB/s eta 0:00:06\n",
      "   - -------------------------------------- 1.8/44.8 MB 6.8 MB/s eta 0:00:07\n",
      "   - -------------------------------------- 2.0/44.8 MB 6.5 MB/s eta 0:00:07\n",
      "   -- ------------------------------------- 2.4/44.8 MB 6.7 MB/s eta 0:00:07\n",
      "   -- ------------------------------------- 2.8/44.8 MB 6.8 MB/s eta 0:00:07\n",
      "   -- ------------------------------------- 3.2/44.8 MB 7.0 MB/s eta 0:00:06\n",
      "   --- ------------------------------------ 3.6/44.8 MB 7.1 MB/s eta 0:00:06\n",
      "   --- ------------------------------------ 4.0/44.8 MB 7.3 MB/s eta 0:00:06\n",
      "   --- ------------------------------------ 4.3/44.8 MB 7.3 MB/s eta 0:00:06\n",
      "   ---- ----------------------------------- 4.7/44.8 MB 7.4 MB/s eta 0:00:06\n",
      "   ---- ----------------------------------- 4.9/44.8 MB 7.3 MB/s eta 0:00:06\n",
      "   ---- ----------------------------------- 5.1/44.8 MB 6.9 MB/s eta 0:00:06\n",
      "   ---- ----------------------------------- 5.3/44.8 MB 6.8 MB/s eta 0:00:06\n",
      "   ----- ---------------------------------- 5.8/44.8 MB 7.0 MB/s eta 0:00:06\n",
      "   ----- ---------------------------------- 6.1/44.8 MB 7.0 MB/s eta 0:00:06\n",
      "   ----- ---------------------------------- 6.6/44.8 MB 7.1 MB/s eta 0:00:06\n",
      "   ------ --------------------------------- 7.0/44.8 MB 7.2 MB/s eta 0:00:06\n",
      "   ------ --------------------------------- 7.5/44.8 MB 7.4 MB/s eta 0:00:06\n",
      "   ------ --------------------------------- 7.8/44.8 MB 7.4 MB/s eta 0:00:05\n",
      "   ------- -------------------------------- 8.3/44.8 MB 7.5 MB/s eta 0:00:05\n",
      "   ------- -------------------------------- 8.8/44.8 MB 7.6 MB/s eta 0:00:05\n",
      "   -------- ------------------------------- 9.3/44.8 MB 7.8 MB/s eta 0:00:05\n",
      "   -------- ------------------------------- 9.6/44.8 MB 7.8 MB/s eta 0:00:05\n",
      "   --------- ------------------------------ 10.1/44.8 MB 7.9 MB/s eta 0:00:05\n",
      "   --------- ------------------------------ 10.6/44.8 MB 8.1 MB/s eta 0:00:05\n",
      "   --------- ------------------------------ 11.0/44.8 MB 8.1 MB/s eta 0:00:05\n",
      "   ---------- ----------------------------- 11.3/44.8 MB 8.2 MB/s eta 0:00:05\n",
      "   ---------- ----------------------------- 11.9/44.8 MB 8.2 MB/s eta 0:00:05\n",
      "   ----------- ---------------------------- 12.3/44.8 MB 8.6 MB/s eta 0:00:04\n",
      "   ----------- ---------------------------- 12.7/44.8 MB 8.6 MB/s eta 0:00:04\n",
      "   ----------- ---------------------------- 13.1/44.8 MB 8.6 MB/s eta 0:00:04\n",
      "   ------------ --------------------------- 13.5/44.8 MB 8.6 MB/s eta 0:00:04\n",
      "   ------------ --------------------------- 13.9/44.8 MB 8.6 MB/s eta 0:00:04\n",
      "   ------------ --------------------------- 14.4/44.8 MB 8.6 MB/s eta 0:00:04\n",
      "   ------------- -------------------------- 14.9/44.8 MB 8.7 MB/s eta 0:00:04\n",
      "   ------------- -------------------------- 15.3/44.8 MB 9.2 MB/s eta 0:00:04\n",
      "   -------------- ------------------------- 15.7/44.8 MB 9.5 MB/s eta 0:00:04\n",
      "   -------------- ------------------------- 16.0/44.8 MB 9.2 MB/s eta 0:00:04\n",
      "   -------------- ------------------------- 16.5/44.8 MB 9.4 MB/s eta 0:00:04\n",
      "   -------------- ------------------------- 16.6/44.8 MB 9.2 MB/s eta 0:00:04\n",
      "   --------------- ------------------------ 17.2/44.8 MB 9.1 MB/s eta 0:00:04\n",
      "   --------------- ------------------------ 17.6/44.8 MB 9.2 MB/s eta 0:00:03\n",
      "   ---------------- ----------------------- 18.1/44.8 MB 9.2 MB/s eta 0:00:03\n",
      "   ---------------- ----------------------- 18.7/44.8 MB 9.5 MB/s eta 0:00:03\n",
      "   ----------------- ---------------------- 19.2/44.8 MB 9.4 MB/s eta 0:00:03\n",
      "   ----------------- ---------------------- 19.6/44.8 MB 9.5 MB/s eta 0:00:03\n",
      "   ----------------- ---------------------- 20.0/44.8 MB 9.2 MB/s eta 0:00:03\n",
      "   ------------------ --------------------- 20.6/44.8 MB 9.5 MB/s eta 0:00:03\n",
      "   ------------------ --------------------- 21.0/44.8 MB 9.5 MB/s eta 0:00:03\n",
      "   ------------------- -------------------- 21.4/44.8 MB 9.6 MB/s eta 0:00:03\n",
      "   ------------------- -------------------- 21.9/44.8 MB 9.5 MB/s eta 0:00:03\n",
      "   ------------------- -------------------- 22.4/44.8 MB 9.5 MB/s eta 0:00:03\n",
      "   -------------------- ------------------- 22.7/44.8 MB 9.5 MB/s eta 0:00:03\n",
      "   -------------------- ------------------- 23.2/44.8 MB 9.5 MB/s eta 0:00:03\n",
      "   --------------------- ------------------ 23.7/44.8 MB 9.5 MB/s eta 0:00:03\n",
      "   --------------------- ------------------ 24.1/44.8 MB 9.8 MB/s eta 0:00:03\n",
      "   --------------------- ------------------ 24.6/44.8 MB 9.6 MB/s eta 0:00:03\n",
      "   ---------------------- ----------------- 25.0/44.8 MB 9.5 MB/s eta 0:00:03\n",
      "   ---------------------- ----------------- 25.4/44.8 MB 9.5 MB/s eta 0:00:03\n",
      "   ----------------------- ---------------- 25.9/44.8 MB 9.5 MB/s eta 0:00:02\n",
      "   ----------------------- ---------------- 26.3/44.8 MB 9.6 MB/s eta 0:00:02\n",
      "   ----------------------- ---------------- 26.8/44.8 MB 9.9 MB/s eta 0:00:02\n",
      "   ------------------------ --------------- 27.3/44.8 MB 9.9 MB/s eta 0:00:02\n",
      "   ------------------------ --------------- 27.7/44.8 MB 10.1 MB/s eta 0:00:02\n",
      "   ------------------------- -------------- 28.2/44.8 MB 9.9 MB/s eta 0:00:02\n",
      "   ------------------------- -------------- 28.4/44.8 MB 9.8 MB/s eta 0:00:02\n",
      "   ------------------------- -------------- 28.8/44.8 MB 9.5 MB/s eta 0:00:02\n",
      "   -------------------------- ------------- 29.3/44.8 MB 9.6 MB/s eta 0:00:02\n",
      "   -------------------------- ------------- 29.8/44.8 MB 9.6 MB/s eta 0:00:02\n",
      "   --------------------------- ------------ 30.4/44.8 MB 9.8 MB/s eta 0:00:02\n",
      "   --------------------------- ------------ 30.8/44.8 MB 9.8 MB/s eta 0:00:02\n",
      "   --------------------------- ------------ 31.1/44.8 MB 9.6 MB/s eta 0:00:02\n",
      "   --------------------------- ------------ 31.2/44.8 MB 9.4 MB/s eta 0:00:02\n",
      "   ---------------------------- ----------- 31.5/44.8 MB 9.1 MB/s eta 0:00:02\n",
      "   ---------------------------- ----------- 32.0/44.8 MB 9.1 MB/s eta 0:00:02\n",
      "   ----------------------------- ---------- 32.7/44.8 MB 9.4 MB/s eta 0:00:02\n",
      "   ----------------------------- ---------- 32.7/44.8 MB 9.4 MB/s eta 0:00:02\n",
      "   ----------------------------- ---------- 32.7/44.8 MB 9.4 MB/s eta 0:00:02\n",
      "   ----------------------------- ---------- 32.9/44.8 MB 8.4 MB/s eta 0:00:02\n",
      "   ----------------------------- ---------- 33.3/44.8 MB 8.4 MB/s eta 0:00:02\n",
      "   ------------------------------ --------- 33.8/44.8 MB 8.5 MB/s eta 0:00:02\n",
      "   ------------------------------ --------- 33.9/44.8 MB 8.5 MB/s eta 0:00:02\n",
      "   ------------------------------ --------- 33.9/44.8 MB 8.5 MB/s eta 0:00:02\n",
      "   ------------------------------ --------- 34.1/44.8 MB 7.7 MB/s eta 0:00:02\n",
      "   ------------------------------ --------- 34.5/44.8 MB 7.6 MB/s eta 0:00:02\n",
      "   ------------------------------ --------- 34.6/44.8 MB 7.4 MB/s eta 0:00:02\n",
      "   ------------------------------ --------- 34.6/44.8 MB 7.4 MB/s eta 0:00:02\n",
      "   ------------------------------ --------- 34.7/44.8 MB 7.0 MB/s eta 0:00:02\n",
      "   ------------------------------- -------- 34.8/44.8 MB 6.8 MB/s eta 0:00:02\n",
      "   ------------------------------- -------- 35.3/44.8 MB 6.9 MB/s eta 0:00:02\n",
      "   ------------------------------- -------- 35.8/44.8 MB 7.0 MB/s eta 0:00:02\n",
      "   -------------------------------- ------- 35.9/44.8 MB 6.9 MB/s eta 0:00:02\n",
      "   -------------------------------- ------- 36.2/44.8 MB 6.8 MB/s eta 0:00:02\n",
      "   -------------------------------- ------- 36.3/44.8 MB 6.5 MB/s eta 0:00:02\n",
      "   -------------------------------- ------- 36.6/44.8 MB 6.4 MB/s eta 0:00:02\n",
      "   --------------------------------- ------ 37.0/44.8 MB 6.4 MB/s eta 0:00:02\n",
      "   --------------------------------- ------ 37.6/44.8 MB 6.5 MB/s eta 0:00:02\n",
      "   --------------------------------- ------ 37.6/44.8 MB 6.5 MB/s eta 0:00:02\n",
      "   --------------------------------- ------ 37.7/44.8 MB 6.2 MB/s eta 0:00:02\n",
      "   --------------------------------- ------ 37.9/44.8 MB 6.1 MB/s eta 0:00:02\n",
      "   ---------------------------------- ----- 38.3/44.8 MB 6.1 MB/s eta 0:00:02\n",
      "   ---------------------------------- ----- 38.5/44.8 MB 6.0 MB/s eta 0:00:02\n",
      "   ---------------------------------- ----- 38.5/44.8 MB 6.0 MB/s eta 0:00:02\n",
      "   ---------------------------------- ----- 38.8/44.8 MB 5.8 MB/s eta 0:00:02\n",
      "   ----------------------------------- ---- 39.5/44.8 MB 5.9 MB/s eta 0:00:01\n",
      "   ----------------------------------- ---- 39.8/44.8 MB 5.9 MB/s eta 0:00:01\n",
      "   ----------------------------------- ---- 39.8/44.8 MB 5.9 MB/s eta 0:00:01\n",
      "   ----------------------------------- ---- 39.8/44.8 MB 5.9 MB/s eta 0:00:01\n",
      "   ----------------------------------- ---- 40.0/44.8 MB 5.5 MB/s eta 0:00:01\n",
      "   ------------------------------------ --- 40.4/44.8 MB 5.5 MB/s eta 0:00:01\n",
      "   ------------------------------------ --- 40.5/44.8 MB 5.3 MB/s eta 0:00:01\n",
      "   ------------------------------------ --- 40.5/44.8 MB 5.3 MB/s eta 0:00:01\n",
      "   ------------------------------------ --- 40.5/44.8 MB 5.3 MB/s eta 0:00:01\n",
      "   ------------------------------------ --- 40.7/44.8 MB 5.0 MB/s eta 0:00:01\n",
      "   ------------------------------------ --- 40.8/44.8 MB 4.9 MB/s eta 0:00:01\n",
      "   ------------------------------------ --- 41.3/44.8 MB 5.0 MB/s eta 0:00:01\n",
      "   ------------------------------------- -- 41.8/44.8 MB 5.1 MB/s eta 0:00:01\n",
      "   ------------------------------------- -- 42.4/44.8 MB 5.1 MB/s eta 0:00:01\n",
      "   -------------------------------------- - 42.8/44.8 MB 5.1 MB/s eta 0:00:01\n",
      "   -------------------------------------- - 43.3/44.8 MB 5.4 MB/s eta 0:00:01\n",
      "   ---------------------------------------  43.7/44.8 MB 5.4 MB/s eta 0:00:01\n",
      "   ---------------------------------------  44.2/44.8 MB 5.7 MB/s eta 0:00:01\n",
      "   ---------------------------------------  44.7/44.8 MB 5.7 MB/s eta 0:00:01\n",
      "   ---------------------------------------  44.8/44.8 MB 5.8 MB/s eta 0:00:01\n",
      "   ---------------------------------------  44.8/44.8 MB 5.8 MB/s eta 0:00:01\n",
      "   ---------------------------------------  44.8/44.8 MB 5.8 MB/s eta 0:00:01\n",
      "   ---------------------------------------  44.8/44.8 MB 5.8 MB/s eta 0:00:01\n",
      "   ---------------------------------------  44.8/44.8 MB 5.8 MB/s eta 0:00:01\n",
      "   ---------------------------------------- 44.8/44.8 MB 5.0 MB/s eta 0:00:00\n",
      "Installing collected packages: scipy\n",
      "Successfully installed scipy-1.14.0\n",
      "Note: you may need to restart the kernel to use updated packages.\n"
     ]
    }
   ],
   "source": [
    "pip install scipy"
   ]
  },
  {
   "cell_type": "code",
   "execution_count": 13,
   "metadata": {
    "id": "0wucBUF-11zI"
   },
   "outputs": [],
   "source": [
    "from PIL import Image\n",
    "from tensorflow.keras.models import load_model"
   ]
  },
  {
   "cell_type": "code",
   "execution_count": 16,
   "metadata": {
    "id": "0wucBUF-11zI"
   },
   "outputs": [
    {
     "name": "stdout",
     "output_type": "stream",
     "text": [
      "Epoch 1/25\n"
     ]
    },
    {
     "name": "stderr",
     "output_type": "stream",
     "text": [
      "D:\\Anaconda\\envs\\python\\lib\\site-packages\\keras\\src\\trainers\\data_adapters\\py_dataset_adapter.py:121: UserWarning: Your `PyDataset` class should call `super().__init__(**kwargs)` in its constructor. `**kwargs` can include `workers`, `use_multiprocessing`, `max_queue_size`. Do not pass these arguments to `fit()`, as they will be ignored.\n",
      "  self._warn_if_super_not_called()\n"
     ]
    },
    {
     "name": "stdout",
     "output_type": "stream",
     "text": [
      "\u001b[1m250/250\u001b[0m \u001b[32m━━━━━━━━━━━━━━━━━━━━\u001b[0m\u001b[37m\u001b[0m \u001b[1m142s\u001b[0m 545ms/step - accuracy: 0.5318 - loss: 0.7000 - val_accuracy: 0.6515 - val_loss: 0.6325\n",
      "Epoch 2/25\n",
      "\u001b[1m250/250\u001b[0m \u001b[32m━━━━━━━━━━━━━━━━━━━━\u001b[0m\u001b[37m\u001b[0m \u001b[1m44s\u001b[0m 170ms/step - accuracy: 0.6527 - loss: 0.6290 - val_accuracy: 0.6950 - val_loss: 0.5753\n",
      "Epoch 3/25\n",
      "\u001b[1m250/250\u001b[0m \u001b[32m━━━━━━━━━━━━━━━━━━━━\u001b[0m\u001b[37m\u001b[0m \u001b[1m43s\u001b[0m 168ms/step - accuracy: 0.6893 - loss: 0.5842 - val_accuracy: 0.7180 - val_loss: 0.5535\n",
      "Epoch 4/25\n",
      "\u001b[1m250/250\u001b[0m \u001b[32m━━━━━━━━━━━━━━━━━━━━\u001b[0m\u001b[37m\u001b[0m \u001b[1m43s\u001b[0m 168ms/step - accuracy: 0.7245 - loss: 0.5489 - val_accuracy: 0.7510 - val_loss: 0.5176\n",
      "Epoch 5/25\n",
      "\u001b[1m250/250\u001b[0m \u001b[32m━━━━━━━━━━━━━━━━━━━━\u001b[0m\u001b[37m\u001b[0m \u001b[1m45s\u001b[0m 174ms/step - accuracy: 0.7300 - loss: 0.5274 - val_accuracy: 0.7270 - val_loss: 0.5429\n",
      "Epoch 6/25\n",
      "\u001b[1m250/250\u001b[0m \u001b[32m━━━━━━━━━━━━━━━━━━━━\u001b[0m\u001b[37m\u001b[0m \u001b[1m44s\u001b[0m 173ms/step - accuracy: 0.7646 - loss: 0.4919 - val_accuracy: 0.7590 - val_loss: 0.5064\n",
      "Epoch 7/25\n",
      "\u001b[1m250/250\u001b[0m \u001b[32m━━━━━━━━━━━━━━━━━━━━\u001b[0m\u001b[37m\u001b[0m \u001b[1m44s\u001b[0m 171ms/step - accuracy: 0.7719 - loss: 0.4820 - val_accuracy: 0.7615 - val_loss: 0.4977\n",
      "Epoch 8/25\n",
      "\u001b[1m250/250\u001b[0m \u001b[32m━━━━━━━━━━━━━━━━━━━━\u001b[0m\u001b[37m\u001b[0m \u001b[1m43s\u001b[0m 168ms/step - accuracy: 0.7701 - loss: 0.4675 - val_accuracy: 0.7710 - val_loss: 0.4878\n",
      "Epoch 9/25\n",
      "\u001b[1m250/250\u001b[0m \u001b[32m━━━━━━━━━━━━━━━━━━━━\u001b[0m\u001b[37m\u001b[0m \u001b[1m46s\u001b[0m 181ms/step - accuracy: 0.7900 - loss: 0.4494 - val_accuracy: 0.7800 - val_loss: 0.4907\n",
      "Epoch 10/25\n",
      "\u001b[1m250/250\u001b[0m \u001b[32m━━━━━━━━━━━━━━━━━━━━\u001b[0m\u001b[37m\u001b[0m \u001b[1m45s\u001b[0m 176ms/step - accuracy: 0.7981 - loss: 0.4325 - val_accuracy: 0.7380 - val_loss: 0.5316\n",
      "Epoch 11/25\n",
      "\u001b[1m250/250\u001b[0m \u001b[32m━━━━━━━━━━━━━━━━━━━━\u001b[0m\u001b[37m\u001b[0m \u001b[1m45s\u001b[0m 173ms/step - accuracy: 0.8126 - loss: 0.4110 - val_accuracy: 0.7850 - val_loss: 0.4770\n",
      "Epoch 12/25\n",
      "\u001b[1m250/250\u001b[0m \u001b[32m━━━━━━━━━━━━━━━━━━━━\u001b[0m\u001b[37m\u001b[0m \u001b[1m43s\u001b[0m 169ms/step - accuracy: 0.8114 - loss: 0.4025 - val_accuracy: 0.7725 - val_loss: 0.5064\n",
      "Epoch 13/25\n",
      "\u001b[1m250/250\u001b[0m \u001b[32m━━━━━━━━━━━━━━━━━━━━\u001b[0m\u001b[37m\u001b[0m \u001b[1m44s\u001b[0m 171ms/step - accuracy: 0.8214 - loss: 0.3858 - val_accuracy: 0.7600 - val_loss: 0.5252\n",
      "Epoch 14/25\n",
      "\u001b[1m250/250\u001b[0m \u001b[32m━━━━━━━━━━━━━━━━━━━━\u001b[0m\u001b[37m\u001b[0m \u001b[1m43s\u001b[0m 167ms/step - accuracy: 0.8194 - loss: 0.3811 - val_accuracy: 0.7785 - val_loss: 0.4721\n",
      "Epoch 15/25\n",
      "\u001b[1m250/250\u001b[0m \u001b[32m━━━━━━━━━━━━━━━━━━━━\u001b[0m\u001b[37m\u001b[0m \u001b[1m41s\u001b[0m 162ms/step - accuracy: 0.8482 - loss: 0.3556 - val_accuracy: 0.7920 - val_loss: 0.4850\n",
      "Epoch 16/25\n",
      "\u001b[1m250/250\u001b[0m \u001b[32m━━━━━━━━━━━━━━━━━━━━\u001b[0m\u001b[37m\u001b[0m \u001b[1m32s\u001b[0m 122ms/step - accuracy: 0.8547 - loss: 0.3358 - val_accuracy: 0.7910 - val_loss: 0.4859\n",
      "Epoch 17/25\n",
      "\u001b[1m250/250\u001b[0m \u001b[32m━━━━━━━━━━━━━━━━━━━━\u001b[0m\u001b[37m\u001b[0m \u001b[1m38s\u001b[0m 149ms/step - accuracy: 0.8622 - loss: 0.3210 - val_accuracy: 0.7925 - val_loss: 0.4942\n",
      "Epoch 18/25\n",
      "\u001b[1m250/250\u001b[0m \u001b[32m━━━━━━━━━━━━━━━━━━━━\u001b[0m\u001b[37m\u001b[0m \u001b[1m42s\u001b[0m 166ms/step - accuracy: 0.8692 - loss: 0.3018 - val_accuracy: 0.7810 - val_loss: 0.5855\n",
      "Epoch 19/25\n",
      "\u001b[1m250/250\u001b[0m \u001b[32m━━━━━━━━━━━━━━━━━━━━\u001b[0m\u001b[37m\u001b[0m \u001b[1m45s\u001b[0m 177ms/step - accuracy: 0.8641 - loss: 0.2995 - val_accuracy: 0.7945 - val_loss: 0.4676\n",
      "Epoch 20/25\n",
      "\u001b[1m250/250\u001b[0m \u001b[32m━━━━━━━━━━━━━━━━━━━━\u001b[0m\u001b[37m\u001b[0m \u001b[1m43s\u001b[0m 165ms/step - accuracy: 0.8876 - loss: 0.2725 - val_accuracy: 0.7990 - val_loss: 0.5034\n",
      "Epoch 21/25\n",
      "\u001b[1m250/250\u001b[0m \u001b[32m━━━━━━━━━━━━━━━━━━━━\u001b[0m\u001b[37m\u001b[0m \u001b[1m45s\u001b[0m 177ms/step - accuracy: 0.8942 - loss: 0.2620 - val_accuracy: 0.7975 - val_loss: 0.5286\n",
      "Epoch 22/25\n",
      "\u001b[1m250/250\u001b[0m \u001b[32m━━━━━━━━━━━━━━━━━━━━\u001b[0m\u001b[37m\u001b[0m \u001b[1m45s\u001b[0m 175ms/step - accuracy: 0.8983 - loss: 0.2441 - val_accuracy: 0.8035 - val_loss: 0.5224\n",
      "Epoch 23/25\n",
      "\u001b[1m250/250\u001b[0m \u001b[32m━━━━━━━━━━━━━━━━━━━━\u001b[0m\u001b[37m\u001b[0m \u001b[1m45s\u001b[0m 173ms/step - accuracy: 0.9044 - loss: 0.2404 - val_accuracy: 0.7805 - val_loss: 0.5797\n",
      "Epoch 24/25\n",
      "\u001b[1m250/250\u001b[0m \u001b[32m━━━━━━━━━━━━━━━━━━━━\u001b[0m\u001b[37m\u001b[0m \u001b[1m45s\u001b[0m 176ms/step - accuracy: 0.9086 - loss: 0.2267 - val_accuracy: 0.7850 - val_loss: 0.6022\n",
      "Epoch 25/25\n",
      "\u001b[1m250/250\u001b[0m \u001b[32m━━━━━━━━━━━━━━━━━━━━\u001b[0m\u001b[37m\u001b[0m \u001b[1m45s\u001b[0m 177ms/step - accuracy: 0.9147 - loss: 0.2064 - val_accuracy: 0.7725 - val_loss: 0.6392\n"
     ]
    },
    {
     "data": {
      "text/plain": [
       "<keras.src.callbacks.history.History at 0x20c2c0a3910>"
      ]
     },
     "execution_count": 16,
     "metadata": {},
     "output_type": "execute_result"
    }
   ],
   "source": [
    "cnn.fit(x = training_set, validation_data = test_set, epochs = 25)"
   ]
  },
  {
   "cell_type": "markdown",
   "metadata": {
    "id": "dgtOh7ccA2J3"
   },
   "source": [
    "Making a single prediction"
   ]
  },
  {
   "cell_type": "code",
   "execution_count": 20,
   "metadata": {
    "id": "ebhsl2jb11xH"
   },
   "outputs": [
    {
     "name": "stdout",
     "output_type": "stream",
     "text": [
      "\u001b[1m1/1\u001b[0m \u001b[32m━━━━━━━━━━━━━━━━━━━━\u001b[0m\u001b[37m\u001b[0m \u001b[1m0s\u001b[0m 42ms/step\n",
      "dog\n"
     ]
    }
   ],
   "source": [
    "import numpy as np\n",
    "from keras.preprocessing import image\n",
    "test_image = image.load_img('dataset/single/dog.1354.jpg', target_size = (64, 64))\n",
    "test_image = image.img_to_array(test_image)\n",
    "test_image = np.expand_dims(test_image, axis = 0)\n",
    "result = cnn.predict(test_image)\n",
    "training_set.class_indices\n",
    "if result[0][0] == 1:\n",
    "    prediction = 'dog'\n",
    "else:\n",
    "    prediction = 'cat'\n",
    "\n",
    "print(prediction)"
   ]
  },
  {
   "cell_type": "code",
   "execution_count": null,
   "metadata": {
    "id": "0UL2xGsx11vT"
   },
   "outputs": [],
   "source": []
  },
  {
   "cell_type": "code",
   "execution_count": null,
   "metadata": {
    "id": "GajraBA-11s8"
   },
   "outputs": [],
   "source": []
  },
  {
   "cell_type": "code",
   "execution_count": null,
   "metadata": {
    "id": "xBqFuWax11q6"
   },
   "outputs": [],
   "source": []
  }
 ],
 "metadata": {
  "colab": {
   "authorship_tag": "ABX9TyP6Ekghc1qbEZV6dJSl9W2I",
   "provenance": []
  },
  "kernelspec": {
   "display_name": "Python 3 (ipykernel)",
   "language": "python",
   "name": "python3"
  },
  "language_info": {
   "codemirror_mode": {
    "name": "ipython",
    "version": 3
   },
   "file_extension": ".py",
   "mimetype": "text/x-python",
   "name": "python",
   "nbconvert_exporter": "python",
   "pygments_lexer": "ipython3",
   "version": "3.10.13"
  }
 },
 "nbformat": 4,
 "nbformat_minor": 4
}
